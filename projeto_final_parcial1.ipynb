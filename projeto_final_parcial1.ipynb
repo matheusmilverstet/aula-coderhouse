{
 "cells": [
  {
   "cell_type": "code",
   "execution_count": 14,
   "metadata": {},
   "outputs": [],
   "source": [
    "#Importando as bibliotecas necessárias\n",
    "\n",
    "import pandas as pd\n",
    "import requests\n",
    "import pdb\n",
    "from plyer import notification\n",
    "from datetime import datetime"
   ]
  },
  {
   "cell_type": "code",
   "execution_count": 21,
   "metadata": {},
   "outputs": [],
   "source": [
    "#Conectando com a API\n",
    "\n",
    "url = \"https://restcountries.com/v3.1/all\"\n",
    "response = requests.get(url)\n",
    "\n",
    "#Criando uma função de alerta para o status da conexão\n",
    "\n",
    "def alerta(codigo, base, etapa):\n",
    "    \n",
    "    now = datetime.now()\n",
    "    formatted_now = now.strftime(\"%d/%m/%Y %H:%M:%S\")\n",
    "\n",
    "    msg = f\"Status do carregamento da base {base} na etapa {etapa}.\\n{formatted_now}\"\n",
    "\n",
    "    if response.status_code < 200 or response.status_code > 299:\n",
    "        title = f'Erro na conexão com a API. Código status: {response.status_code}'\n",
    "    else:\n",
    "        title = f'Conexão com a API bem-sucedida. Código status: {response.status_code}'\n",
    "        dados = response.json()\n",
    "        df = pd.DataFrame(dados)\n",
    "\n",
    "    notification.notify(\n",
    "            title=title,\n",
    "            message=msg,\n",
    "            app_name='alerta',\n",
    "            timeout=10\n",
    "        )\n",
    "\n",
    "alerta(codigo = response.status_code,\n",
    "        base = url,\n",
    "        etapa = \"Importação API\")\n"
   ]
  },
  {
   "cell_type": "code",
   "execution_count": 16,
   "metadata": {},
   "outputs": [
    {
     "data": {
      "text/html": [
       "<div>\n",
       "<style scoped>\n",
       "    .dataframe tbody tr th:only-of-type {\n",
       "        vertical-align: middle;\n",
       "    }\n",
       "\n",
       "    .dataframe tbody tr th {\n",
       "        vertical-align: top;\n",
       "    }\n",
       "\n",
       "    .dataframe thead th {\n",
       "        text-align: right;\n",
       "    }\n",
       "</style>\n",
       "<table border=\"1\" class=\"dataframe\">\n",
       "  <thead>\n",
       "    <tr style=\"text-align: right;\">\n",
       "      <th></th>\n",
       "      <th>Nome</th>\n",
       "      <th>Região</th>\n",
       "      <th>Mapa</th>\n",
       "    </tr>\n",
       "  </thead>\n",
       "  <tbody>\n",
       "    <tr>\n",
       "      <th>0</th>\n",
       "      <td>Christmas Island</td>\n",
       "      <td>Oceania</td>\n",
       "      <td>https://goo.gl/maps/ZC17hHsQZpShN5wk9</td>\n",
       "    </tr>\n",
       "    <tr>\n",
       "      <th>1</th>\n",
       "      <td>Eritrea</td>\n",
       "      <td>Africa</td>\n",
       "      <td>https://goo.gl/maps/HRyqUpnPwwG6jY5j6</td>\n",
       "    </tr>\n",
       "    <tr>\n",
       "      <th>2</th>\n",
       "      <td>Samoa</td>\n",
       "      <td>Oceania</td>\n",
       "      <td>https://goo.gl/maps/CFC9fEFP9cfkYUBF9</td>\n",
       "    </tr>\n",
       "    <tr>\n",
       "      <th>3</th>\n",
       "      <td>North Macedonia</td>\n",
       "      <td>Europe</td>\n",
       "      <td>https://goo.gl/maps/55Q8MEnF6ACdu3q79</td>\n",
       "    </tr>\n",
       "    <tr>\n",
       "      <th>4</th>\n",
       "      <td>Djibouti</td>\n",
       "      <td>Africa</td>\n",
       "      <td>https://goo.gl/maps/V1HWfzN3bS1kwf4C6</td>\n",
       "    </tr>\n",
       "  </tbody>\n",
       "</table>\n",
       "</div>"
      ],
      "text/plain": [
       "               Nome   Região                                   Mapa\n",
       "0  Christmas Island  Oceania  https://goo.gl/maps/ZC17hHsQZpShN5wk9\n",
       "1           Eritrea   Africa  https://goo.gl/maps/HRyqUpnPwwG6jY5j6\n",
       "2             Samoa  Oceania  https://goo.gl/maps/CFC9fEFP9cfkYUBF9\n",
       "3   North Macedonia   Europe  https://goo.gl/maps/55Q8MEnF6ACdu3q79\n",
       "4          Djibouti   Africa  https://goo.gl/maps/V1HWfzN3bS1kwf4C6"
      ]
     },
     "execution_count": 16,
     "metadata": {},
     "output_type": "execute_result"
    }
   ],
   "source": [
    "# Formando um Dataframe\n",
    "\n",
    "if  response.status_code >= 200 and response.status_code <= 299:\n",
    "    dados = response.json()\n",
    "    df = pd.DataFrame(dados)\n",
    "\n",
    "df_formatado = pd.DataFrame(dados)\n",
    "df_formatado['Nome'] = df_formatado['name'].apply(lambda x: x['common'])\n",
    "df_formatado['Mapa'] = df_formatado['maps'].apply(lambda x: x['googleMaps'])\n",
    "df_formatado['Região'] = df_formatado['region']\n",
    "\n",
    "df_formatado = df_formatado[['Nome', 'Região', 'Mapa']]\n",
    "\n",
    "df_formatado.head()"
   ]
  }
 ],
 "metadata": {
  "kernelspec": {
   "display_name": "Python 3",
   "language": "python",
   "name": "python3"
  },
  "language_info": {
   "codemirror_mode": {
    "name": "ipython",
    "version": 3
   },
   "file_extension": ".py",
   "mimetype": "text/x-python",
   "name": "python",
   "nbconvert_exporter": "python",
   "pygments_lexer": "ipython3",
   "version": "3.12.0"
  }
 },
 "nbformat": 4,
 "nbformat_minor": 2
}
